{
 "cells": [
  {
   "cell_type": "code",
   "execution_count": 23,
   "metadata": {},
   "outputs": [],
   "source": [
    "from pyspark.sql import SparkSession\n",
    "from pyspark.sql.functions import col, udf\n",
    "from pyspark.sql.types import StringType\n",
    "from pyspark.sql.functions import lit\n",
    "\n",
    "\n",
    "spark = SparkSession.builder.appName(\"example\").getOrCreate()\n",
    "sc = spark.sparkContext\n",
    "\n",
    "# Load the data\n",
    "rdd = sc.textFile('./StudentData.csv')\n",
    "headers = rdd.first()\n",
    "rdd = rdd.filter(lambda x: x!=headers)\n",
    "rdd = rdd.map(lambda x: x.split(','))"
   ]
  },
  {
   "cell_type": "code",
   "execution_count": 13,
   "metadata": {},
   "outputs": [
    {
     "data": {
      "text/plain": [
       "'age,gender,name,course,roll,marks,email'"
      ]
     },
     "execution_count": 13,
     "metadata": {},
     "output_type": "execute_result"
    }
   ],
   "source": [
    "headers"
   ]
  },
  {
   "cell_type": "code",
   "execution_count": 48,
   "metadata": {},
   "outputs": [
    {
     "data": {
      "text/plain": [
       "1000"
      ]
     },
     "execution_count": 48,
     "metadata": {},
     "output_type": "execute_result"
    }
   ],
   "source": [
    "# Showing the number of students in the file\n",
    "rdd.count()"
   ]
  },
  {
   "cell_type": "code",
   "execution_count": 50,
   "metadata": {},
   "outputs": [
    {
     "data": {
      "text/plain": [
       "[('Female', 29636), ('Male', 30461)]"
      ]
     },
     "execution_count": 50,
     "metadata": {},
     "output_type": "execute_result"
    }
   ],
   "source": [
    "# Show the total marks archived by male and female student\n",
    "rdd1 = rdd\n",
    "rdd1 = rdd1.map(lambda x: (x[1], int(x[5])))\n",
    "rdd1 = rdd1.reduceByKey(lambda x,y: x + y)\n",
    "rdd1.collect()"
   ]
  },
  {
   "cell_type": "code",
   "execution_count": 51,
   "metadata": {},
   "outputs": [
    {
     "data": {
      "text/plain": [
       "[('fail', 370), ('pass', 630)]"
      ]
     },
     "execution_count": 51,
     "metadata": {},
     "output_type": "execute_result"
    }
   ],
   "source": [
    "# Show the total number student that have passed and failed. 50+ marks are required to pass\n",
    "rdd2 = rdd\n",
    "rdd2 = rdd2.map(lambda x: ((\"pass\", 1) if int(x[5]) > 50 else (\"fail\", 1)))\n",
    "rdd2 = rdd2.reduceByKey(lambda x, y: x + y)\n",
    "rdd2.collect()"
   ]
  },
  {
   "cell_type": "code",
   "execution_count": 52,
   "metadata": {},
   "outputs": [
    {
     "data": {
      "text/plain": [
       "[('PF', 166),\n",
       " ('DSA', 176),\n",
       " ('DB', 157),\n",
       " ('Cloud', 192),\n",
       " ('MVC', 157),\n",
       " ('OOP', 152)]"
      ]
     },
     "execution_count": 52,
     "metadata": {},
     "output_type": "execute_result"
    }
   ],
   "source": [
    "# Show the total number of students enrolled by per courses\n",
    "rdd3 = rdd\n",
    "rdd3 = rdd3.map(lambda x: (x[3], 1))\n",
    "rdd3 = rdd3.reduceByKey(lambda x, y: x + y)\n",
    "rdd3.collect()"
   ]
  },
  {
   "cell_type": "code",
   "execution_count": 54,
   "metadata": {},
   "outputs": [
    {
     "data": {
      "text/plain": [
       "[('PF', 9933),\n",
       " ('DSA', 10950),\n",
       " ('DB', 9270),\n",
       " ('Cloud', 11443),\n",
       " ('MVC', 9585),\n",
       " ('OOP', 8916)]"
      ]
     },
     "execution_count": 54,
     "metadata": {},
     "output_type": "execute_result"
    }
   ],
   "source": [
    "# Show the total marks that students have achieved per course\n",
    "rdd4 = rdd\n",
    "rdd4 = rdd4.map(lambda x: (x[3], int(x[5])))\n",
    "rdd4 = rdd4.reduceByKey(lambda x, y: x + y)\n",
    "rdd4.collect()"
   ]
  },
  {
   "cell_type": "code",
   "execution_count": 55,
   "metadata": {},
   "outputs": [
    {
     "data": {
      "text/plain": [
       "[('PF', 99), ('DSA', 99), ('DB', 98), ('Cloud', 99), ('MVC', 99), ('OOP', 99)]"
      ]
     },
     "execution_count": 55,
     "metadata": {},
     "output_type": "execute_result"
    }
   ],
   "source": [
    "# Show the minimum and maximum achieved per courses\n",
    "rdd5 = rdd\n",
    "rdd5 = rdd5.map(lambda x: (x[3], int(x[5])))\n",
    "rdd5 = rdd5.reduceByKey(lambda x, y: x if x > y else y)\n",
    "rdd5.collect()"
   ]
  },
  {
   "cell_type": "code",
   "execution_count": null,
   "metadata": {},
   "outputs": [
    {
     "data": {
      "text/plain": [
       "[('Female', 28.489021956087825), ('Male', 28.52304609218437)]"
      ]
     },
     "execution_count": 56,
     "metadata": {},
     "output_type": "execute_result"
    }
   ],
   "source": [
    "# Show the average age of male and female students\n",
    "rdd6 = rdd\n",
    "rdd6 = rdd6.map(lambda x: (x[1], (int(x[0]), 1))) # this format is (gender, (sum, count))\n",
    "rdd6 = rdd6.reduceByKey(lambda x, y: (x[0] + y[0], x[1] + y[1]))\n",
    "rdd6.mapValues(lambda x: x[0]/x[1]).collect()"
   ]
  }
 ],
 "metadata": {
  "kernelspec": {
   "display_name": "de",
   "language": "python",
   "name": "python3"
  },
  "language_info": {
   "codemirror_mode": {
    "name": "ipython",
    "version": 3
   },
   "file_extension": ".py",
   "mimetype": "text/x-python",
   "name": "python",
   "nbconvert_exporter": "python",
   "pygments_lexer": "ipython3",
   "version": "3.11.9"
  }
 },
 "nbformat": 4,
 "nbformat_minor": 2
}
